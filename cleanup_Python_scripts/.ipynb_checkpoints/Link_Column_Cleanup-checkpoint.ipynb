{
 "cells": [
  {
   "cell_type": "code",
   "execution_count": 1,
   "metadata": {},
   "outputs": [],
   "source": [
    "import pandas as pd"
   ]
  },
  {
   "cell_type": "code",
   "execution_count": 2,
   "metadata": {},
   "outputs": [],
   "source": [
    "df = pd.read_csv(\"./policies.csv\", header=0)"
   ]
  },
  {
   "cell_type": "code",
   "execution_count": 3,
   "metadata": {},
   "outputs": [
    {
     "data": {
      "text/html": [
       "<div>\n",
       "<style scoped>\n",
       "    .dataframe tbody tr th:only-of-type {\n",
       "        vertical-align: middle;\n",
       "    }\n",
       "\n",
       "    .dataframe tbody tr th {\n",
       "        vertical-align: top;\n",
       "    }\n",
       "\n",
       "    .dataframe thead th {\n",
       "        text-align: right;\n",
       "    }\n",
       "</style>\n",
       "<table border=\"1\" class=\"dataframe\">\n",
       "  <thead>\n",
       "    <tr style=\"text-align: right;\">\n",
       "      <th></th>\n",
       "      <th>id</th>\n",
       "      <th>timestamp</th>\n",
       "      <th>title</th>\n",
       "      <th>school</th>\n",
       "      <th>department</th>\n",
       "      <th>administrator</th>\n",
       "      <th>author</th>\n",
       "      <th>state</th>\n",
       "      <th>city</th>\n",
       "      <th>latitude</th>\n",
       "      <th>longitude</th>\n",
       "      <th>link</th>\n",
       "      <th>published_date</th>\n",
       "      <th>tags</th>\n",
       "      <th>abstract</th>\n",
       "      <th>text</th>\n",
       "    </tr>\n",
       "  </thead>\n",
       "  <tbody>\n",
       "    <tr>\n",
       "      <th>0</th>\n",
       "      <td>21103</td>\n",
       "      <td>8/2/2019 9:48</td>\n",
       "      <td>Economics\\tDepartment:\\tSummer\\tSession\\tPolicy</td>\n",
       "      <td>university of oregon</td>\n",
       "      <td>NaN</td>\n",
       "      <td>NaN</td>\n",
       "      <td>NaN</td>\n",
       "      <td>oregon</td>\n",
       "      <td>eugene</td>\n",
       "      <td>44.0448° N</td>\n",
       "      <td>123.0726° W</td>\n",
       "      <td>https://provost.uoregon.edu/sites/provost2.uor...</td>\n",
       "      <td>NaN</td>\n",
       "      <td>Faculty, Administrative</td>\n",
       "      <td>NaN</td>\n",
       "      <td>Economics\\tDepartment:\\tSummer\\tSession\\tPolic...</td>\n",
       "    </tr>\n",
       "    <tr>\n",
       "      <th>1</th>\n",
       "      <td>21104</td>\n",
       "      <td>8/2/2019 13:39</td>\n",
       "      <td>Compensation and Benefits--Compensation</td>\n",
       "      <td>university of massachusetts lowell</td>\n",
       "      <td>UNIVERSITY OF MASSACHUSETTS MEDICAL SCHOOL</td>\n",
       "      <td>NaN</td>\n",
       "      <td>NaN</td>\n",
       "      <td>massachusetts</td>\n",
       "      <td>lowell</td>\n",
       "      <td>42.642716° N</td>\n",
       "      <td>71.334530° W</td>\n",
       "      <td>https://www.umassp.edu/sites/umassp.edu/files/...</td>\n",
       "      <td>NaN</td>\n",
       "      <td>Administrative, Fees</td>\n",
       "      <td>NaN</td>\n",
       "      <td>Each resident shall be paid at least bi-weekly...</td>\n",
       "    </tr>\n",
       "    <tr>\n",
       "      <th>2</th>\n",
       "      <td>21105</td>\n",
       "      <td>8/2/2019 13:40</td>\n",
       "      <td>Compensation and Benefits--Excused Days With Pay</td>\n",
       "      <td>university of massachusetts lowell</td>\n",
       "      <td>UNIVERSITY OF MASSACHUSETTS MEDICAL SCHOOL</td>\n",
       "      <td>NaN</td>\n",
       "      <td>NaN</td>\n",
       "      <td>massachusetts</td>\n",
       "      <td>lowell</td>\n",
       "      <td>42.642716° N</td>\n",
       "      <td>71.334530° W</td>\n",
       "      <td>https://www.umassp.edu/sites/umassp.edu/files/...</td>\n",
       "      <td>NaN</td>\n",
       "      <td>Administrative, Fees</td>\n",
       "      <td>NaN</td>\n",
       "      <td>Each full-time resident shall receive 15 days ...</td>\n",
       "    </tr>\n",
       "    <tr>\n",
       "      <th>3</th>\n",
       "      <td>21106</td>\n",
       "      <td>8/2/2019 13:40</td>\n",
       "      <td>Compensation and Benefits--Leave of Absence</td>\n",
       "      <td>university of massachusetts lowell</td>\n",
       "      <td>UNIVERSITY OF MASSACHUSETTS MEDICAL SCHOOL</td>\n",
       "      <td>NaN</td>\n",
       "      <td>NaN</td>\n",
       "      <td>massachusetts</td>\n",
       "      <td>lowell</td>\n",
       "      <td>42.642716° N</td>\n",
       "      <td>71.334530° W</td>\n",
       "      <td>https://www.umassp.edu/sites/umassp.edu/files/...</td>\n",
       "      <td>NaN</td>\n",
       "      <td>Administrative, Fees</td>\n",
       "      <td>NaN</td>\n",
       "      <td>Eligible residents may be granted a Family and...</td>\n",
       "    </tr>\n",
       "    <tr>\n",
       "      <th>4</th>\n",
       "      <td>21107</td>\n",
       "      <td>8/2/2019 13:41</td>\n",
       "      <td>Compensation and Benefits--Benefits</td>\n",
       "      <td>university of massachusetts lowell</td>\n",
       "      <td>UNIVERSITY OF MASSACHUSETTS MEDICAL SCHOOL</td>\n",
       "      <td>NaN</td>\n",
       "      <td>NaN</td>\n",
       "      <td>massachusetts</td>\n",
       "      <td>lowell</td>\n",
       "      <td>42.642716° N</td>\n",
       "      <td>71.334530° W</td>\n",
       "      <td>https://www.umassp.edu/sites/umassp.edu/files/...</td>\n",
       "      <td>NaN</td>\n",
       "      <td>Administrative, Fees</td>\n",
       "      <td>NaN</td>\n",
       "      <td>All residents are eligible to participate in t...</td>\n",
       "    </tr>\n",
       "  </tbody>\n",
       "</table>\n",
       "</div>"
      ],
      "text/plain": [
       "      id       timestamp                                             title  \\\n",
       "0  21103   8/2/2019 9:48   Economics\\tDepartment:\\tSummer\\tSession\\tPolicy   \n",
       "1  21104  8/2/2019 13:39          Compensation and Benefits--Compensation    \n",
       "2  21105  8/2/2019 13:40  Compensation and Benefits--Excused Days With Pay   \n",
       "3  21106  8/2/2019 13:40       Compensation and Benefits--Leave of Absence   \n",
       "4  21107  8/2/2019 13:41               Compensation and Benefits--Benefits   \n",
       "\n",
       "                               school  \\\n",
       "0                university of oregon   \n",
       "1  university of massachusetts lowell   \n",
       "2  university of massachusetts lowell   \n",
       "3  university of massachusetts lowell   \n",
       "4  university of massachusetts lowell   \n",
       "\n",
       "                                   department administrator author  \\\n",
       "0                                         NaN           NaN    NaN   \n",
       "1  UNIVERSITY OF MASSACHUSETTS MEDICAL SCHOOL           NaN    NaN   \n",
       "2  UNIVERSITY OF MASSACHUSETTS MEDICAL SCHOOL           NaN    NaN   \n",
       "3  UNIVERSITY OF MASSACHUSETTS MEDICAL SCHOOL           NaN    NaN   \n",
       "4  UNIVERSITY OF MASSACHUSETTS MEDICAL SCHOOL           NaN    NaN   \n",
       "\n",
       "           state    city      latitude     longitude  \\\n",
       "0         oregon  eugene    44.0448° N   123.0726° W   \n",
       "1  massachusetts  lowell  42.642716° N  71.334530° W   \n",
       "2  massachusetts  lowell  42.642716° N  71.334530° W   \n",
       "3  massachusetts  lowell  42.642716° N  71.334530° W   \n",
       "4  massachusetts  lowell  42.642716° N  71.334530° W   \n",
       "\n",
       "                                                link published_date  \\\n",
       "0  https://provost.uoregon.edu/sites/provost2.uor...            NaN   \n",
       "1  https://www.umassp.edu/sites/umassp.edu/files/...            NaN   \n",
       "2  https://www.umassp.edu/sites/umassp.edu/files/...            NaN   \n",
       "3  https://www.umassp.edu/sites/umassp.edu/files/...            NaN   \n",
       "4  https://www.umassp.edu/sites/umassp.edu/files/...            NaN   \n",
       "\n",
       "                      tags abstract  \\\n",
       "0  Faculty, Administrative      NaN   \n",
       "1     Administrative, Fees      NaN   \n",
       "2     Administrative, Fees      NaN   \n",
       "3     Administrative, Fees      NaN   \n",
       "4     Administrative, Fees      NaN   \n",
       "\n",
       "                                                text  \n",
       "0  Economics\\tDepartment:\\tSummer\\tSession\\tPolic...  \n",
       "1  Each resident shall be paid at least bi-weekly...  \n",
       "2  Each full-time resident shall receive 15 days ...  \n",
       "3  Eligible residents may be granted a Family and...  \n",
       "4  All residents are eligible to participate in t...  "
      ]
     },
     "execution_count": 3,
     "metadata": {},
     "output_type": "execute_result"
    }
   ],
   "source": [
    "df.head()"
   ]
  },
  {
   "cell_type": "code",
   "execution_count": 4,
   "metadata": {},
   "outputs": [
    {
     "data": {
      "text/plain": [
       "0    https://provost.uoregon.edu/sites/provost2.uor...\n",
       "1    https://www.umassp.edu/sites/umassp.edu/files/...\n",
       "2    https://www.umassp.edu/sites/umassp.edu/files/...\n",
       "3    https://www.umassp.edu/sites/umassp.edu/files/...\n",
       "4    https://www.umassp.edu/sites/umassp.edu/files/...\n",
       "Name: link, dtype: object"
      ]
     },
     "execution_count": 4,
     "metadata": {},
     "output_type": "execute_result"
    }
   ],
   "source": [
    "df['link'].head()"
   ]
  },
  {
   "cell_type": "code",
   "execution_count": 5,
   "metadata": {},
   "outputs": [],
   "source": [
    "df['link'] = df['link'].str.strip()"
   ]
  },
  {
   "cell_type": "code",
   "execution_count": 84,
   "metadata": {},
   "outputs": [
    {
     "data": {
      "text/plain": [
       "http    22736\n",
       "file       13\n",
       "Corn        1\n",
       "-73.        1\n",
       "74.0        1\n",
       "40.0        1\n",
       "76.9        1\n",
       "A st        1\n",
       "Name: link, dtype: int64"
      ]
     },
     "execution_count": 84,
     "metadata": {},
     "output_type": "execute_result"
    }
   ],
   "source": [
    "df['link'].str.slice(stop=4).value_counts()"
   ]
  },
  {
   "cell_type": "code",
   "execution_count": 7,
   "metadata": {},
   "outputs": [
    {
     "data": {
      "text/plain": [
       "True     22694\n",
       "False       63\n",
       "Name: link, dtype: int64"
      ]
     },
     "execution_count": 7,
     "metadata": {},
     "output_type": "execute_result"
    }
   ],
   "source": [
    "search_http = \"http\"\n",
    "\n",
    "df['link'].str.startswith(search_http).value_counts()"
   ]
  },
  {
   "cell_type": "code",
   "execution_count": 8,
   "metadata": {},
   "outputs": [
    {
     "data": {
      "text/plain": [
       "False    22744\n",
       "True        13\n",
       "Name: link, dtype: int64"
      ]
     },
     "execution_count": 8,
     "metadata": {},
     "output_type": "execute_result"
    }
   ],
   "source": [
    "search_file = \"file\"\n",
    "df['link'].str.startswith(search_file).value_counts()"
   ]
  },
  {
   "cell_type": "code",
   "execution_count": 9,
   "metadata": {},
   "outputs": [],
   "source": [
    "# Fixed links start with 'www'\n",
    "df.loc[df['link'].str.startswith(\"www\"), 'link'] = \"https://\" + df[df['link'].str.startswith(\"www\")]['link']"
   ]
  },
  {
   "cell_type": "code",
   "execution_count": 10,
   "metadata": {},
   "outputs": [],
   "source": [
    "# Fixed links start with '://'\n",
    "df.loc[df['link'].str.startswith(\"://\"), 'link'] = \"https\" + df[df['link'].str.startswith(\"://\")]['link']\n",
    "# df[df['link'].str.startswith(\"://\")]['link']"
   ]
  },
  {
   "cell_type": "code",
   "execution_count": 11,
   "metadata": {},
   "outputs": [
    {
     "data": {
      "text/html": [
       "<div>\n",
       "<style scoped>\n",
       "    .dataframe tbody tr th:only-of-type {\n",
       "        vertical-align: middle;\n",
       "    }\n",
       "\n",
       "    .dataframe tbody tr th {\n",
       "        vertical-align: top;\n",
       "    }\n",
       "\n",
       "    .dataframe thead th {\n",
       "        text-align: right;\n",
       "    }\n",
       "</style>\n",
       "<table border=\"1\" class=\"dataframe\">\n",
       "  <thead>\n",
       "    <tr style=\"text-align: right;\">\n",
       "      <th></th>\n",
       "      <th>id</th>\n",
       "      <th>link</th>\n",
       "    </tr>\n",
       "  </thead>\n",
       "  <tbody>\n",
       "    <tr>\n",
       "      <th>2521</th>\n",
       "      <td>702</td>\n",
       "      <td>The University of Chicago Human Resources Poli...</td>\n",
       "    </tr>\n",
       "    <tr>\n",
       "      <th>4096</th>\n",
       "      <td>2310</td>\n",
       "      <td>The University of Wisconsin–Madison is committ...</td>\n",
       "    </tr>\n",
       "    <tr>\n",
       "      <th>6095</th>\n",
       "      <td>4426</td>\n",
       "      <td>The University will maintain an academic envir...</td>\n",
       "    </tr>\n",
       "  </tbody>\n",
       "</table>\n",
       "</div>"
      ],
      "text/plain": [
       "        id                                               link\n",
       "2521   702  The University of Chicago Human Resources Poli...\n",
       "4096  2310  The University of Wisconsin–Madison is committ...\n",
       "6095  4426  The University will maintain an academic envir..."
      ]
     },
     "execution_count": 11,
     "metadata": {},
     "output_type": "execute_result"
    }
   ],
   "source": [
    "df[df['link'].str.startswith(\"The\")][['id','link']]"
   ]
  },
  {
   "cell_type": "code",
   "execution_count": 12,
   "metadata": {},
   "outputs": [],
   "source": [
    "# Fixed links start with 'The'\n",
    "# U Chicago\n",
    "df.loc[df.id==\"702\", 'link'] = \"https://humanresources.uchicago.edu/fpg/policies/100/p101.shtml\"\n",
    "# df.loc[df.id==\"702\", 'link']\n",
    "\n",
    "# U WM\n",
    "df.loc[df.id==\"2310\", 'link'] = \"https://employeedisabilities.wisc.edu/disability-accommodation/\"\n",
    "# df.loc[df.id==\"2310\", 'link']\n",
    "\n",
    "# U of Alaska Fairbanks\n",
    "df.loc[df.id==\"4426\", 'link'] = \"https://www.alaska.edu/bor/policy/09-02.pdf\"\n",
    "# df.loc[df.id==\"4426\", 'link']"
   ]
  },
  {
   "cell_type": "code",
   "execution_count": 13,
   "metadata": {},
   "outputs": [
    {
     "data": {
      "text/html": [
       "<div>\n",
       "<style scoped>\n",
       "    .dataframe tbody tr th:only-of-type {\n",
       "        vertical-align: middle;\n",
       "    }\n",
       "\n",
       "    .dataframe tbody tr th {\n",
       "        vertical-align: top;\n",
       "    }\n",
       "\n",
       "    .dataframe thead th {\n",
       "        text-align: right;\n",
       "    }\n",
       "</style>\n",
       "<table border=\"1\" class=\"dataframe\">\n",
       "  <thead>\n",
       "    <tr style=\"text-align: right;\">\n",
       "      <th></th>\n",
       "      <th>id</th>\n",
       "      <th>school</th>\n",
       "      <th>link</th>\n",
       "    </tr>\n",
       "  </thead>\n",
       "  <tbody>\n",
       "    <tr>\n",
       "      <th>6322</th>\n",
       "      <td>4659</td>\n",
       "      <td>university of arizona</td>\n",
       "      <td>32.2319° N, 110.9501° W</td>\n",
       "    </tr>\n",
       "    <tr>\n",
       "      <th>11105</th>\n",
       "      <td>10754</td>\n",
       "      <td>texas christian university</td>\n",
       "      <td>32.7096° N, 97.3636° W</td>\n",
       "    </tr>\n",
       "    <tr>\n",
       "      <th>11423</th>\n",
       "      <td>11210</td>\n",
       "      <td>texas christian university</td>\n",
       "      <td>32.7096° N, 97.3636° W</td>\n",
       "    </tr>\n",
       "  </tbody>\n",
       "</table>\n",
       "</div>"
      ],
      "text/plain": [
       "          id                      school                     link\n",
       "6322    4659       university of arizona  32.2319° N, 110.9501° W\n",
       "11105  10754  texas christian university   32.7096° N, 97.3636° W\n",
       "11423  11210  texas christian university   32.7096° N, 97.3636° W"
      ]
     },
     "execution_count": 13,
     "metadata": {},
     "output_type": "execute_result"
    }
   ],
   "source": [
    "# Fixed links start with '32'\n",
    "df.loc[df['link'].str.startswith(\"32\"),['id','school','link']]"
   ]
  },
  {
   "cell_type": "code",
   "execution_count": 14,
   "metadata": {},
   "outputs": [],
   "source": [
    "# university of arizona\n",
    "df.loc[df.id == \"4659\",\"link\"] = \"https://diversity.arizona.edu/vision-our-campus\"\n",
    "# df.loc[df.id == \"4659\",\"link\"]\n",
    "\n",
    "# Texas christian university\n",
    "df.loc[df.id == \"10754\",\"link\"] = \"http://hr.tcu.edu/wp-content/uploads/Policy-1.005-Pol%C3%ADtica-sobre-la-Prohibici%C3%B3n-de-Discriminaci%C3%B3n-Acoso-y-Conducta-relacionada.pdf\"\n",
    "# df.loc[df.id == \"10754\",\"link\"]\n",
    "df.loc[df.id == \"11210\",\"link\"] = \"https://tcu.smartcatalogiq.com/en/current/Graduate-Catalog/Policies-and-Procedures/Academic-Rating-System\"\n",
    "# df.loc[df.id == \"11210\",\"link\"]"
   ]
  },
  {
   "cell_type": "code",
   "execution_count": 15,
   "metadata": {},
   "outputs": [
    {
     "data": {
      "text/html": [
       "<div>\n",
       "<style scoped>\n",
       "    .dataframe tbody tr th:only-of-type {\n",
       "        vertical-align: middle;\n",
       "    }\n",
       "\n",
       "    .dataframe tbody tr th {\n",
       "        vertical-align: top;\n",
       "    }\n",
       "\n",
       "    .dataframe thead th {\n",
       "        text-align: right;\n",
       "    }\n",
       "</style>\n",
       "<table border=\"1\" class=\"dataframe\">\n",
       "  <thead>\n",
       "    <tr style=\"text-align: right;\">\n",
       "      <th></th>\n",
       "      <th>id</th>\n",
       "      <th>school</th>\n",
       "      <th>link</th>\n",
       "    </tr>\n",
       "  </thead>\n",
       "  <tbody>\n",
       "    <tr>\n",
       "      <th>9157</th>\n",
       "      <td>8020</td>\n",
       "      <td>university of arkansas</td>\n",
       "      <td>NWA Democratic Black Caucus Honors U of A Facu...</td>\n",
       "    </tr>\n",
       "  </tbody>\n",
       "</table>\n",
       "</div>"
      ],
      "text/plain": [
       "        id                  school  \\\n",
       "9157  8020  university of arkansas   \n",
       "\n",
       "                                                   link  \n",
       "9157  NWA Democratic Black Caucus Honors U of A Facu...  "
      ]
     },
     "execution_count": 15,
     "metadata": {},
     "output_type": "execute_result"
    }
   ],
   "source": [
    "# Fixed links start with 'NWA'\n",
    "df.loc[df['link'].str.startswith(\"NWA\"),['id','school','link']]"
   ]
  },
  {
   "cell_type": "code",
   "execution_count": 16,
   "metadata": {},
   "outputs": [],
   "source": [
    "# university of arkansas\n",
    "df.loc[df.id == \"8020\",\"link\"] = \"https://news.uark.edu/articles/41567/nwa-democratic-black-caucus-honors-u-of-a-faculty-staff\"\n",
    "# df.loc[df.id == \"8020\",\"link\"]"
   ]
  },
  {
   "cell_type": "code",
   "execution_count": 17,
   "metadata": {},
   "outputs": [
    {
     "data": {
      "text/html": [
       "<div>\n",
       "<style scoped>\n",
       "    .dataframe tbody tr th:only-of-type {\n",
       "        vertical-align: middle;\n",
       "    }\n",
       "\n",
       "    .dataframe tbody tr th {\n",
       "        vertical-align: top;\n",
       "    }\n",
       "\n",
       "    .dataframe thead th {\n",
       "        text-align: right;\n",
       "    }\n",
       "</style>\n",
       "<table border=\"1\" class=\"dataframe\">\n",
       "  <thead>\n",
       "    <tr style=\"text-align: right;\">\n",
       "      <th></th>\n",
       "      <th>id</th>\n",
       "      <th>school</th>\n",
       "      <th>link</th>\n",
       "    </tr>\n",
       "  </thead>\n",
       "  <tbody>\n",
       "    <tr>\n",
       "      <th>4200</th>\n",
       "      <td>2405</td>\n",
       "      <td>villanova univeristy</td>\n",
       "      <td>Villanova students with disabilities are eligi...</td>\n",
       "    </tr>\n",
       "  </tbody>\n",
       "</table>\n",
       "</div>"
      ],
      "text/plain": [
       "        id                school  \\\n",
       "4200  2405  villanova univeristy   \n",
       "\n",
       "                                                   link  \n",
       "4200  Villanova students with disabilities are eligi...  "
      ]
     },
     "execution_count": 17,
     "metadata": {},
     "output_type": "execute_result"
    }
   ],
   "source": [
    "# Fixed links start with 'Vill'\n",
    "df.loc[df['link'].str.startswith(\"Vill\"),['id','school','link']]"
   ]
  },
  {
   "cell_type": "code",
   "execution_count": 18,
   "metadata": {},
   "outputs": [],
   "source": [
    "# villanova university\n",
    "df.loc[df.id == \"2405\",\"link\"] = \"https://www1.villanova.edu/villanova/studentlife/be_empowered/disability_services/guidelines.html\"\n",
    "# df.loc[df.id == \"2405\",\"link\"]"
   ]
  },
  {
   "cell_type": "code",
   "execution_count": 19,
   "metadata": {},
   "outputs": [
    {
     "data": {
      "text/html": [
       "<div>\n",
       "<style scoped>\n",
       "    .dataframe tbody tr th:only-of-type {\n",
       "        vertical-align: middle;\n",
       "    }\n",
       "\n",
       "    .dataframe tbody tr th {\n",
       "        vertical-align: top;\n",
       "    }\n",
       "\n",
       "    .dataframe thead th {\n",
       "        text-align: right;\n",
       "    }\n",
       "</style>\n",
       "<table border=\"1\" class=\"dataframe\">\n",
       "  <thead>\n",
       "    <tr style=\"text-align: right;\">\n",
       "      <th></th>\n",
       "      <th>id</th>\n",
       "      <th>school</th>\n",
       "      <th>link</th>\n",
       "    </tr>\n",
       "  </thead>\n",
       "  <tbody>\n",
       "    <tr>\n",
       "      <th>8662</th>\n",
       "      <td>7338</td>\n",
       "      <td>university of arkansas</td>\n",
       "      <td>94.1737</td>\n",
       "    </tr>\n",
       "  </tbody>\n",
       "</table>\n",
       "</div>"
      ],
      "text/plain": [
       "        id                  school     link\n",
       "8662  7338  university of arkansas  94.1737"
      ]
     },
     "execution_count": 19,
     "metadata": {},
     "output_type": "execute_result"
    }
   ],
   "source": [
    "# Fixed links start with '94.1'\n",
    "df.loc[df['link'].str.startswith(\"94.1\"),['id','school','link']]"
   ]
  },
  {
   "cell_type": "code",
   "execution_count": 20,
   "metadata": {},
   "outputs": [],
   "source": [
    "# university of arkansas\n",
    "df.loc[df.id == \"7338\",\"link\"] = \"https://news.uark.edu/articles/45982/trip-to-memphis-gives-students-new-cultural-experience\"\n",
    "# df.loc[df.id == \"7338\",\"link\"]"
   ]
  },
  {
   "cell_type": "code",
   "execution_count": 21,
   "metadata": {},
   "outputs": [
    {
     "data": {
      "text/html": [
       "<div>\n",
       "<style scoped>\n",
       "    .dataframe tbody tr th:only-of-type {\n",
       "        vertical-align: middle;\n",
       "    }\n",
       "\n",
       "    .dataframe tbody tr th {\n",
       "        vertical-align: top;\n",
       "    }\n",
       "\n",
       "    .dataframe thead th {\n",
       "        text-align: right;\n",
       "    }\n",
       "</style>\n",
       "<table border=\"1\" class=\"dataframe\">\n",
       "  <thead>\n",
       "    <tr style=\"text-align: right;\">\n",
       "      <th></th>\n",
       "      <th>id</th>\n",
       "      <th>school</th>\n",
       "      <th>link</th>\n",
       "    </tr>\n",
       "  </thead>\n",
       "  <tbody>\n",
       "    <tr>\n",
       "      <th>5745</th>\n",
       "      <td>4021</td>\n",
       "      <td>johns hopkins university</td>\n",
       "      <td>39.3299° N, 76.6205° W</td>\n",
       "    </tr>\n",
       "  </tbody>\n",
       "</table>\n",
       "</div>"
      ],
      "text/plain": [
       "        id                    school                    link\n",
       "5745  4021  johns hopkins university  39.3299° N, 76.6205° W"
      ]
     },
     "execution_count": 21,
     "metadata": {},
     "output_type": "execute_result"
    }
   ],
   "source": [
    "# Fixed links start with '39.3'\n",
    "df.loc[df['link'].str.startswith(\"39.3\"),['id','school','link']]"
   ]
  },
  {
   "cell_type": "code",
   "execution_count": 22,
   "metadata": {},
   "outputs": [],
   "source": [
    "# johns hopkins university\n",
    "df.loc[df.id == \"4021\",\"link\"] = \"https://studentaffairs.jhu.edu/disabilities/prospective-newly-admitted-students/documentation-guidelines/\"\n",
    "# df.loc[df.id == \"4021\",\"link\"]"
   ]
  },
  {
   "cell_type": "code",
   "execution_count": 23,
   "metadata": {},
   "outputs": [
    {
     "data": {
      "text/html": [
       "<div>\n",
       "<style scoped>\n",
       "    .dataframe tbody tr th:only-of-type {\n",
       "        vertical-align: middle;\n",
       "    }\n",
       "\n",
       "    .dataframe tbody tr th {\n",
       "        vertical-align: top;\n",
       "    }\n",
       "\n",
       "    .dataframe thead th {\n",
       "        text-align: right;\n",
       "    }\n",
       "</style>\n",
       "<table border=\"1\" class=\"dataframe\">\n",
       "  <thead>\n",
       "    <tr style=\"text-align: right;\">\n",
       "      <th></th>\n",
       "      <th>id</th>\n",
       "      <th>school</th>\n",
       "      <th>link</th>\n",
       "    </tr>\n",
       "  </thead>\n",
       "  <tbody>\n",
       "    <tr>\n",
       "      <th>7868</th>\n",
       "      <td>6273</td>\n",
       "      <td>the university of montana western</td>\n",
       "      <td>vhttps://w.umwestern.edu/section/705-11-teleco...</td>\n",
       "    </tr>\n",
       "  </tbody>\n",
       "</table>\n",
       "</div>"
      ],
      "text/plain": [
       "        id                             school  \\\n",
       "7868  6273  the university of montana western   \n",
       "\n",
       "                                                   link  \n",
       "7868  vhttps://w.umwestern.edu/section/705-11-teleco...  "
      ]
     },
     "execution_count": 23,
     "metadata": {},
     "output_type": "execute_result"
    }
   ],
   "source": [
    "# Fixed links start with 'vhtt'\n",
    "df.loc[df['link'].str.startswith(\"vhtt\"),['id','school','link']]"
   ]
  },
  {
   "cell_type": "code",
   "execution_count": 24,
   "metadata": {},
   "outputs": [],
   "source": [
    "# the university of montana western\n",
    "df.loc[df.id == \"6273\",\"link\"] = \"https://w.umwestern.edu/section/705-11-telecommuting/\"\n",
    "# df.loc[df.id == \"6273\",\"link\"]"
   ]
  },
  {
   "cell_type": "code",
   "execution_count": 25,
   "metadata": {},
   "outputs": [
    {
     "data": {
      "text/html": [
       "<div>\n",
       "<style scoped>\n",
       "    .dataframe tbody tr th:only-of-type {\n",
       "        vertical-align: middle;\n",
       "    }\n",
       "\n",
       "    .dataframe tbody tr th {\n",
       "        vertical-align: top;\n",
       "    }\n",
       "\n",
       "    .dataframe thead th {\n",
       "        text-align: right;\n",
       "    }\n",
       "</style>\n",
       "<table border=\"1\" class=\"dataframe\">\n",
       "  <thead>\n",
       "    <tr style=\"text-align: right;\">\n",
       "      <th></th>\n",
       "      <th>id</th>\n",
       "      <th>school</th>\n",
       "      <th>link</th>\n",
       "    </tr>\n",
       "  </thead>\n",
       "  <tbody>\n",
       "    <tr>\n",
       "      <th>20299</th>\n",
       "      <td>3127</td>\n",
       "      <td>rutgers university</td>\n",
       "      <td>40.5008° N, 74.4474° W</td>\n",
       "    </tr>\n",
       "  </tbody>\n",
       "</table>\n",
       "</div>"
      ],
      "text/plain": [
       "         id              school                    link\n",
       "20299  3127  rutgers university  40.5008° N, 74.4474° W"
      ]
     },
     "execution_count": 25,
     "metadata": {},
     "output_type": "execute_result"
    }
   ],
   "source": [
    "# Fixed links start with '40.5' \n",
    "df.loc[df['link'].str.startswith(\"40.5\"),['id','school','link']]"
   ]
  },
  {
   "cell_type": "code",
   "execution_count": 26,
   "metadata": {},
   "outputs": [],
   "source": [
    "# rutgers university (No link for this record, drop it)\n",
    "# df = df.drop(df.index[20299])\n",
    "# df.loc[df.id == \"3127\",\"link\"]"
   ]
  },
  {
   "cell_type": "code",
   "execution_count": 27,
   "metadata": {},
   "outputs": [
    {
     "data": {
      "text/html": [
       "<div>\n",
       "<style scoped>\n",
       "    .dataframe tbody tr th:only-of-type {\n",
       "        vertical-align: middle;\n",
       "    }\n",
       "\n",
       "    .dataframe tbody tr th {\n",
       "        vertical-align: top;\n",
       "    }\n",
       "\n",
       "    .dataframe thead th {\n",
       "        text-align: right;\n",
       "    }\n",
       "</style>\n",
       "<table border=\"1\" class=\"dataframe\">\n",
       "  <thead>\n",
       "    <tr style=\"text-align: right;\">\n",
       "      <th></th>\n",
       "      <th>id</th>\n",
       "      <th>school</th>\n",
       "      <th>link</th>\n",
       "    </tr>\n",
       "  </thead>\n",
       "  <tbody>\n",
       "    <tr>\n",
       "      <th>12441</th>\n",
       "      <td>12296</td>\n",
       "      <td>university of vermont</td>\n",
       "      <td>73.1965° W</td>\n",
       "    </tr>\n",
       "  </tbody>\n",
       "</table>\n",
       "</div>"
      ],
      "text/plain": [
       "          id                 school        link\n",
       "12441  12296  university of vermont  73.1965° W"
      ]
     },
     "execution_count": 27,
     "metadata": {},
     "output_type": "execute_result"
    }
   ],
   "source": [
    "# Fixed links start with '73.1' \n",
    "df.loc[df['link'].str.startswith(\"73.1\"),['id','school','link']]"
   ]
  },
  {
   "cell_type": "code",
   "execution_count": 28,
   "metadata": {},
   "outputs": [],
   "source": [
    "# university of vermont\n",
    "df.loc[df.id == \"12296\",\"link\"] = \"https://www.uvm.edu/sites/default/files/UVM-Policies/policies/missingstudent.pdf\"\n",
    "# df.loc[df.id == \"12296\",\"link\"]"
   ]
  },
  {
   "cell_type": "code",
   "execution_count": 29,
   "metadata": {},
   "outputs": [
    {
     "data": {
      "text/html": [
       "<div>\n",
       "<style scoped>\n",
       "    .dataframe tbody tr th:only-of-type {\n",
       "        vertical-align: middle;\n",
       "    }\n",
       "\n",
       "    .dataframe tbody tr th {\n",
       "        vertical-align: top;\n",
       "    }\n",
       "\n",
       "    .dataframe thead th {\n",
       "        text-align: right;\n",
       "    }\n",
       "</style>\n",
       "<table border=\"1\" class=\"dataframe\">\n",
       "  <thead>\n",
       "    <tr style=\"text-align: right;\">\n",
       "      <th></th>\n",
       "      <th>id</th>\n",
       "      <th>school</th>\n",
       "      <th>link</th>\n",
       "    </tr>\n",
       "  </thead>\n",
       "  <tbody>\n",
       "    <tr>\n",
       "      <th>22342</th>\n",
       "      <td>8649</td>\n",
       "      <td>university of minnesota, twin cities</td>\n",
       "      <td>c-priorities/diversity-inclusion/</td>\n",
       "    </tr>\n",
       "  </tbody>\n",
       "</table>\n",
       "</div>"
      ],
      "text/plain": [
       "         id                                school  \\\n",
       "22342  8649  university of minnesota, twin cities   \n",
       "\n",
       "                                    link  \n",
       "22342  c-priorities/diversity-inclusion/  "
      ]
     },
     "execution_count": 29,
     "metadata": {},
     "output_type": "execute_result"
    }
   ],
   "source": [
    "# Fixed links start with 'c-pr' \n",
    "df.loc[df['link'].str.startswith(\"c-pr\"),['id','school','link']]"
   ]
  },
  {
   "cell_type": "code",
   "execution_count": 30,
   "metadata": {},
   "outputs": [],
   "source": [
    "# university of minnesota\n",
    "df.loc[df.id == \"8649\",\"link\"] = \"https://www.sph.umn.edu/about/diversity-inclusion/\"\n",
    "# df.loc[df.id == \"8649\",\"link\"]"
   ]
  },
  {
   "cell_type": "code",
   "execution_count": 31,
   "metadata": {},
   "outputs": [
    {
     "data": {
      "text/html": [
       "<div>\n",
       "<style scoped>\n",
       "    .dataframe tbody tr th:only-of-type {\n",
       "        vertical-align: middle;\n",
       "    }\n",
       "\n",
       "    .dataframe tbody tr th {\n",
       "        vertical-align: top;\n",
       "    }\n",
       "\n",
       "    .dataframe thead th {\n",
       "        text-align: right;\n",
       "    }\n",
       "</style>\n",
       "<table border=\"1\" class=\"dataframe\">\n",
       "  <thead>\n",
       "    <tr style=\"text-align: right;\">\n",
       "      <th></th>\n",
       "      <th>id</th>\n",
       "      <th>school</th>\n",
       "      <th>link</th>\n",
       "    </tr>\n",
       "  </thead>\n",
       "  <tbody>\n",
       "    <tr>\n",
       "      <th>1053</th>\n",
       "      <td>22382</td>\n",
       "      <td>university of massachusetts lowell</td>\n",
       "      <td>Graduate-Certificates.aspx</td>\n",
       "    </tr>\n",
       "  </tbody>\n",
       "</table>\n",
       "</div>"
      ],
      "text/plain": [
       "         id                              school                        link\n",
       "1053  22382  university of massachusetts lowell  Graduate-Certificates.aspx"
      ]
     },
     "execution_count": 31,
     "metadata": {},
     "output_type": "execute_result"
    }
   ],
   "source": [
    "# Fixed links start with 'Grad' \n",
    "df.loc[df['link'].str.startswith(\"Grad\"),['id','school','link']]"
   ]
  },
  {
   "cell_type": "code",
   "execution_count": 32,
   "metadata": {},
   "outputs": [],
   "source": [
    "# university of massachusetts lowell\n",
    "df.loc[df.id == \"22382\",\"link\"] = \"https://www.uml.edu/catalog/graduate/engineering/mechanical-engineering/graduate-certificates.aspx\"\n",
    "# df.loc[df.id == \"22382\",\"link\"]"
   ]
  },
  {
   "cell_type": "code",
   "execution_count": 33,
   "metadata": {},
   "outputs": [
    {
     "data": {
      "text/html": [
       "<div>\n",
       "<style scoped>\n",
       "    .dataframe tbody tr th:only-of-type {\n",
       "        vertical-align: middle;\n",
       "    }\n",
       "\n",
       "    .dataframe tbody tr th {\n",
       "        vertical-align: top;\n",
       "    }\n",
       "\n",
       "    .dataframe thead th {\n",
       "        text-align: right;\n",
       "    }\n",
       "</style>\n",
       "<table border=\"1\" class=\"dataframe\">\n",
       "  <thead>\n",
       "    <tr style=\"text-align: right;\">\n",
       "      <th></th>\n",
       "      <th>id</th>\n",
       "      <th>school</th>\n",
       "      <th>link</th>\n",
       "    </tr>\n",
       "  </thead>\n",
       "  <tbody>\n",
       "    <tr>\n",
       "      <th>5729</th>\n",
       "      <td>4006</td>\n",
       "      <td>baylor university</td>\n",
       "      <td>f any member of the faculty feels that he/she ...</td>\n",
       "    </tr>\n",
       "  </tbody>\n",
       "</table>\n",
       "</div>"
      ],
      "text/plain": [
       "        id             school  \\\n",
       "5729  4006  baylor university   \n",
       "\n",
       "                                                   link  \n",
       "5729  f any member of the faculty feels that he/she ...  "
      ]
     },
     "execution_count": 33,
     "metadata": {},
     "output_type": "execute_result"
    }
   ],
   "source": [
    "# Fixed links start with 'f an' \n",
    "df.loc[df['link'].str.startswith(\"f an\"),['id','school','link']]"
   ]
  },
  {
   "cell_type": "code",
   "execution_count": 34,
   "metadata": {},
   "outputs": [],
   "source": [
    "# baylor university\n",
    "df.loc[df.id == \"4006\",\"link\"] = \"https://www.baylor.edu/content/services/document.php?id=39796\"\n",
    "# df.loc[df.id == \"4006\",\"link\"]"
   ]
  },
  {
   "cell_type": "code",
   "execution_count": 35,
   "metadata": {},
   "outputs": [
    {
     "data": {
      "text/html": [
       "<div>\n",
       "<style scoped>\n",
       "    .dataframe tbody tr th:only-of-type {\n",
       "        vertical-align: middle;\n",
       "    }\n",
       "\n",
       "    .dataframe tbody tr th {\n",
       "        vertical-align: top;\n",
       "    }\n",
       "\n",
       "    .dataframe thead th {\n",
       "        text-align: right;\n",
       "    }\n",
       "</style>\n",
       "<table border=\"1\" class=\"dataframe\">\n",
       "  <thead>\n",
       "    <tr style=\"text-align: right;\">\n",
       "      <th></th>\n",
       "      <th>id</th>\n",
       "      <th>school</th>\n",
       "      <th>link</th>\n",
       "    </tr>\n",
       "  </thead>\n",
       "  <tbody>\n",
       "    <tr>\n",
       "      <th>4572</th>\n",
       "      <td>2771</td>\n",
       "      <td>andrews university</td>\n",
       "      <td>Andrews University does not discriminate on th...</td>\n",
       "    </tr>\n",
       "  </tbody>\n",
       "</table>\n",
       "</div>"
      ],
      "text/plain": [
       "        id              school  \\\n",
       "4572  2771  andrews university   \n",
       "\n",
       "                                                   link  \n",
       "4572  Andrews University does not discriminate on th...  "
      ]
     },
     "execution_count": 35,
     "metadata": {},
     "output_type": "execute_result"
    }
   ],
   "source": [
    "# Fixed links start with 'Andr' \n",
    "df.loc[df['link'].str.startswith(\"Andr\"),['id','school','link']]"
   ]
  },
  {
   "cell_type": "code",
   "execution_count": 36,
   "metadata": {},
   "outputs": [],
   "source": [
    "# andrews university\n",
    "df.loc[df.id == \"2771\",\"link\"] = \"https://www.andrews.edu/diversity/policies/index.html\"\n",
    "# df.loc[df.id == \"2771\",\"link\"]"
   ]
  },
  {
   "cell_type": "code",
   "execution_count": 37,
   "metadata": {},
   "outputs": [
    {
     "data": {
      "text/html": [
       "<div>\n",
       "<style scoped>\n",
       "    .dataframe tbody tr th:only-of-type {\n",
       "        vertical-align: middle;\n",
       "    }\n",
       "\n",
       "    .dataframe tbody tr th {\n",
       "        vertical-align: top;\n",
       "    }\n",
       "\n",
       "    .dataframe thead th {\n",
       "        text-align: right;\n",
       "    }\n",
       "</style>\n",
       "<table border=\"1\" class=\"dataframe\">\n",
       "  <thead>\n",
       "    <tr style=\"text-align: right;\">\n",
       "      <th></th>\n",
       "      <th>id</th>\n",
       "      <th>school</th>\n",
       "      <th>link</th>\n",
       "    </tr>\n",
       "  </thead>\n",
       "  <tbody>\n",
       "    <tr>\n",
       "      <th>4342</th>\n",
       "      <td>2553</td>\n",
       "      <td>university of georgia</td>\n",
       "      <td>33.9480° N, 83.3773° W</td>\n",
       "    </tr>\n",
       "  </tbody>\n",
       "</table>\n",
       "</div>"
      ],
      "text/plain": [
       "        id                 school                    link\n",
       "4342  2553  university of georgia  33.9480° N, 83.3773° W"
      ]
     },
     "execution_count": 37,
     "metadata": {},
     "output_type": "execute_result"
    }
   ],
   "source": [
    "# Fixed links start with '33.9' \n",
    "df.loc[df['link'].str.startswith(\"33.9\"),['id','school','link']]"
   ]
  },
  {
   "cell_type": "code",
   "execution_count": 38,
   "metadata": {},
   "outputs": [],
   "source": [
    "# university of georgia\n",
    "df.loc[df.id == \"2553\",\"link\"] = \"https://lacsi.uga.edu/about-lacsi\"\n",
    "# df.loc[df.id == \"2553\",\"link\"]"
   ]
  },
  {
   "cell_type": "code",
   "execution_count": 39,
   "metadata": {},
   "outputs": [
    {
     "data": {
      "text/html": [
       "<div>\n",
       "<style scoped>\n",
       "    .dataframe tbody tr th:only-of-type {\n",
       "        vertical-align: middle;\n",
       "    }\n",
       "\n",
       "    .dataframe tbody tr th {\n",
       "        vertical-align: top;\n",
       "    }\n",
       "\n",
       "    .dataframe thead th {\n",
       "        text-align: right;\n",
       "    }\n",
       "</style>\n",
       "<table border=\"1\" class=\"dataframe\">\n",
       "  <thead>\n",
       "    <tr style=\"text-align: right;\">\n",
       "      <th></th>\n",
       "      <th>id</th>\n",
       "      <th>school</th>\n",
       "      <th>link</th>\n",
       "    </tr>\n",
       "  </thead>\n",
       "  <tbody>\n",
       "    <tr>\n",
       "      <th>8253</th>\n",
       "      <td>6807</td>\n",
       "      <td>arizona state university</td>\n",
       "      <td>s://education.asu.edu/about/community/asu-teac...</td>\n",
       "    </tr>\n",
       "  </tbody>\n",
       "</table>\n",
       "</div>"
      ],
      "text/plain": [
       "        id                    school  \\\n",
       "8253  6807  arizona state university   \n",
       "\n",
       "                                                   link  \n",
       "8253  s://education.asu.edu/about/community/asu-teac...  "
      ]
     },
     "execution_count": 39,
     "metadata": {},
     "output_type": "execute_result"
    }
   ],
   "source": [
    "# Fixed links start with 's://' \n",
    "df.loc[df['link'].str.startswith(\"s://\"),['id','school','link']]"
   ]
  },
  {
   "cell_type": "code",
   "execution_count": 40,
   "metadata": {},
   "outputs": [],
   "source": [
    "# arizona state university\n",
    "df.loc[df['link'].str.startswith(\"s://\"),'link'] = \"https://education.asu.edu/about/community/asu-teach-america-partnership\"\n",
    "# df.loc[df.id == \"6807\",\"link\"]"
   ]
  },
  {
   "cell_type": "code",
   "execution_count": 41,
   "metadata": {},
   "outputs": [
    {
     "data": {
      "text/html": [
       "<div>\n",
       "<style scoped>\n",
       "    .dataframe tbody tr th:only-of-type {\n",
       "        vertical-align: middle;\n",
       "    }\n",
       "\n",
       "    .dataframe tbody tr th {\n",
       "        vertical-align: top;\n",
       "    }\n",
       "\n",
       "    .dataframe thead th {\n",
       "        text-align: right;\n",
       "    }\n",
       "</style>\n",
       "<table border=\"1\" class=\"dataframe\">\n",
       "  <thead>\n",
       "    <tr style=\"text-align: right;\">\n",
       "      <th></th>\n",
       "      <th>id</th>\n",
       "      <th>school</th>\n",
       "      <th>link</th>\n",
       "    </tr>\n",
       "  </thead>\n",
       "  <tbody>\n",
       "    <tr>\n",
       "      <th>20222</th>\n",
       "      <td>10523</td>\n",
       "      <td>depaul university</td>\n",
       "      <td>87°39'12.75 W</td>\n",
       "    </tr>\n",
       "  </tbody>\n",
       "</table>\n",
       "</div>"
      ],
      "text/plain": [
       "          id             school           link\n",
       "20222  10523  depaul university  87°39'12.75 W"
      ]
     },
     "execution_count": 41,
     "metadata": {},
     "output_type": "execute_result"
    }
   ],
   "source": [
    "# Fixed links start with '87°3' \n",
    "df.loc[df['link'].str.startswith(\"87°3\"),['id','school','link']]"
   ]
  },
  {
   "cell_type": "code",
   "execution_count": 42,
   "metadata": {},
   "outputs": [],
   "source": [
    "# depaul university\n",
    "df.loc[df.id == \"10523\",\"link\"] = \"https://csh.depaul.edu/student-resources/advising-student-services/undergraduate-advising/Forms/Pages/Academic-Probation-Contract.aspx\"\n",
    "# df.loc[df.id == \"10523\",\"link\"]"
   ]
  },
  {
   "cell_type": "code",
   "execution_count": 43,
   "metadata": {},
   "outputs": [
    {
     "data": {
      "text/html": [
       "<div>\n",
       "<style scoped>\n",
       "    .dataframe tbody tr th:only-of-type {\n",
       "        vertical-align: middle;\n",
       "    }\n",
       "\n",
       "    .dataframe tbody tr th {\n",
       "        vertical-align: top;\n",
       "    }\n",
       "\n",
       "    .dataframe thead th {\n",
       "        text-align: right;\n",
       "    }\n",
       "</style>\n",
       "<table border=\"1\" class=\"dataframe\">\n",
       "  <thead>\n",
       "    <tr style=\"text-align: right;\">\n",
       "      <th></th>\n",
       "      <th>id</th>\n",
       "      <th>school</th>\n",
       "      <th>link</th>\n",
       "    </tr>\n",
       "  </thead>\n",
       "  <tbody>\n",
       "    <tr>\n",
       "      <th>1592</th>\n",
       "      <td>22913</td>\n",
       "      <td>the new school</td>\n",
       "      <td>newschool.edu/privacy-policy/</td>\n",
       "    </tr>\n",
       "  </tbody>\n",
       "</table>\n",
       "</div>"
      ],
      "text/plain": [
       "         id          school                           link\n",
       "1592  22913  the new school  newschool.edu/privacy-policy/"
      ]
     },
     "execution_count": 43,
     "metadata": {},
     "output_type": "execute_result"
    }
   ],
   "source": [
    "# Fixed links start with 'news' \n",
    "df.loc[df['link'].str.startswith(\"news\"),['id','school','link']]"
   ]
  },
  {
   "cell_type": "code",
   "execution_count": 44,
   "metadata": {},
   "outputs": [],
   "source": [
    "# the new school\n",
    "df.loc[df.id == \"22913\",\"link\"] = \"https://www.newschool.edu/privacy-policy/\"\n",
    "# df.loc[df.id == \"22913\",\"link\"]"
   ]
  },
  {
   "cell_type": "code",
   "execution_count": 45,
   "metadata": {},
   "outputs": [
    {
     "data": {
      "text/html": [
       "<div>\n",
       "<style scoped>\n",
       "    .dataframe tbody tr th:only-of-type {\n",
       "        vertical-align: middle;\n",
       "    }\n",
       "\n",
       "    .dataframe tbody tr th {\n",
       "        vertical-align: top;\n",
       "    }\n",
       "\n",
       "    .dataframe thead th {\n",
       "        text-align: right;\n",
       "    }\n",
       "</style>\n",
       "<table border=\"1\" class=\"dataframe\">\n",
       "  <thead>\n",
       "    <tr style=\"text-align: right;\">\n",
       "      <th></th>\n",
       "      <th>id</th>\n",
       "      <th>school</th>\n",
       "      <th>link</th>\n",
       "    </tr>\n",
       "  </thead>\n",
       "  <tbody>\n",
       "    <tr>\n",
       "      <th>13952</th>\n",
       "      <td>14329</td>\n",
       "      <td>biola university</td>\n",
       "      <td>118°00'54.6W</td>\n",
       "    </tr>\n",
       "  </tbody>\n",
       "</table>\n",
       "</div>"
      ],
      "text/plain": [
       "          id            school          link\n",
       "13952  14329  biola university  118°00'54.6W"
      ]
     },
     "execution_count": 45,
     "metadata": {},
     "output_type": "execute_result"
    }
   ],
   "source": [
    "# Fixed links start with '118°' \n",
    "df.loc[df['link'].str.startswith(\"118°\"),['id','school','link']]"
   ]
  },
  {
   "cell_type": "code",
   "execution_count": 46,
   "metadata": {},
   "outputs": [],
   "source": [
    "# biola university\n",
    "df.loc[df.id == \"14329\",\"link\"] = \"http://offices.biola.edu/hr/ehandbook/6.9/\"\n",
    "# df.loc[df.id == \"14329\",\"link\"]"
   ]
  },
  {
   "cell_type": "code",
   "execution_count": 47,
   "metadata": {},
   "outputs": [
    {
     "data": {
      "text/html": [
       "<div>\n",
       "<style scoped>\n",
       "    .dataframe tbody tr th:only-of-type {\n",
       "        vertical-align: middle;\n",
       "    }\n",
       "\n",
       "    .dataframe tbody tr th {\n",
       "        vertical-align: top;\n",
       "    }\n",
       "\n",
       "    .dataframe thead th {\n",
       "        text-align: right;\n",
       "    }\n",
       "</style>\n",
       "<table border=\"1\" class=\"dataframe\">\n",
       "  <thead>\n",
       "    <tr style=\"text-align: right;\">\n",
       "      <th></th>\n",
       "      <th>id</th>\n",
       "      <th>school</th>\n",
       "      <th>link</th>\n",
       "    </tr>\n",
       "  </thead>\n",
       "  <tbody>\n",
       "    <tr>\n",
       "      <th>5735</th>\n",
       "      <td>4012</td>\n",
       "      <td>johns hopkins university</td>\n",
       "      <td>Johns Hopkins University is committed to creat...</td>\n",
       "    </tr>\n",
       "  </tbody>\n",
       "</table>\n",
       "</div>"
      ],
      "text/plain": [
       "        id                    school  \\\n",
       "5735  4012  johns hopkins university   \n",
       "\n",
       "                                                   link  \n",
       "5735  Johns Hopkins University is committed to creat...  "
      ]
     },
     "execution_count": 47,
     "metadata": {},
     "output_type": "execute_result"
    }
   ],
   "source": [
    "# Fixed links start with 'John' \n",
    "df.loc[df['link'].str.startswith(\"John\"),['id','school','link']]"
   ]
  },
  {
   "cell_type": "code",
   "execution_count": 48,
   "metadata": {},
   "outputs": [],
   "source": [
    "# johns hopkins university\n",
    "df.loc[df.id == \"4012\",\"link\"] = \"https://oie.jhu.edu/ada-compliance/\"\n",
    "# df.loc[df.id == \"4012\",\"link\"]"
   ]
  },
  {
   "cell_type": "code",
   "execution_count": 49,
   "metadata": {},
   "outputs": [
    {
     "data": {
      "text/html": [
       "<div>\n",
       "<style scoped>\n",
       "    .dataframe tbody tr th:only-of-type {\n",
       "        vertical-align: middle;\n",
       "    }\n",
       "\n",
       "    .dataframe tbody tr th {\n",
       "        vertical-align: top;\n",
       "    }\n",
       "\n",
       "    .dataframe thead th {\n",
       "        text-align: right;\n",
       "    }\n",
       "</style>\n",
       "<table border=\"1\" class=\"dataframe\">\n",
       "  <thead>\n",
       "    <tr style=\"text-align: right;\">\n",
       "      <th></th>\n",
       "      <th>id</th>\n",
       "      <th>school</th>\n",
       "      <th>link</th>\n",
       "    </tr>\n",
       "  </thead>\n",
       "  <tbody>\n",
       "    <tr>\n",
       "      <th>7415</th>\n",
       "      <td>5809</td>\n",
       "      <td>university of louisville</td>\n",
       "      <td>38.2123° N, 85.7585° W</td>\n",
       "    </tr>\n",
       "  </tbody>\n",
       "</table>\n",
       "</div>"
      ],
      "text/plain": [
       "        id                    school                    link\n",
       "7415  5809  university of louisville  38.2123° N, 85.7585° W"
      ]
     },
     "execution_count": 49,
     "metadata": {},
     "output_type": "execute_result"
    }
   ],
   "source": [
    "# Fixed links start with '38.2' \n",
    "df.loc[df['link'].str.startswith(\"38.2\"),['id','school','link']]"
   ]
  },
  {
   "cell_type": "code",
   "execution_count": 50,
   "metadata": {},
   "outputs": [],
   "source": [
    "# university of louisville\n",
    "df.loc[df.id == \"5809\",\"link\"] = \"https://louisville.edu/hr/employeerelations/americans-with-disabilities-act-ada\"\n",
    "# df.loc[df.id == \"5809\",\"link\"]"
   ]
  },
  {
   "cell_type": "code",
   "execution_count": 51,
   "metadata": {},
   "outputs": [
    {
     "data": {
      "text/html": [
       "<div>\n",
       "<style scoped>\n",
       "    .dataframe tbody tr th:only-of-type {\n",
       "        vertical-align: middle;\n",
       "    }\n",
       "\n",
       "    .dataframe tbody tr th {\n",
       "        vertical-align: top;\n",
       "    }\n",
       "\n",
       "    .dataframe thead th {\n",
       "        text-align: right;\n",
       "    }\n",
       "</style>\n",
       "<table border=\"1\" class=\"dataframe\">\n",
       "  <thead>\n",
       "    <tr style=\"text-align: right;\">\n",
       "      <th></th>\n",
       "      <th>id</th>\n",
       "      <th>school</th>\n",
       "      <th>link</th>\n",
       "    </tr>\n",
       "  </thead>\n",
       "  <tbody>\n",
       "    <tr>\n",
       "      <th>21295</th>\n",
       "      <td>13005</td>\n",
       "      <td>the university of california santa cruz</td>\n",
       "      <td>University of California, Santa Cruz</td>\n",
       "    </tr>\n",
       "  </tbody>\n",
       "</table>\n",
       "</div>"
      ],
      "text/plain": [
       "          id                                   school  \\\n",
       "21295  13005  the university of california santa cruz   \n",
       "\n",
       "                                       link  \n",
       "21295  University of California, Santa Cruz  "
      ]
     },
     "execution_count": 51,
     "metadata": {},
     "output_type": "execute_result"
    }
   ],
   "source": [
    "# Fixed links start with 'Univ' \n",
    "df.loc[df['link'].str.startswith(\"Univ\"),['id','school','link']]"
   ]
  },
  {
   "cell_type": "code",
   "execution_count": 52,
   "metadata": {},
   "outputs": [],
   "source": [
    "# the university of california santa cruz\n",
    "df.loc[df.id == \"13005\",\"link\"] = \"https://deanofstudents.ucsc.edu/student-conduct/student-handbook/pdf/60.0-policy-student-governments.pdf\"\n",
    "# df.loc[df.id == \"13005\",\"link\"]"
   ]
  },
  {
   "cell_type": "code",
   "execution_count": 53,
   "metadata": {},
   "outputs": [
    {
     "data": {
      "text/html": [
       "<div>\n",
       "<style scoped>\n",
       "    .dataframe tbody tr th:only-of-type {\n",
       "        vertical-align: middle;\n",
       "    }\n",
       "\n",
       "    .dataframe tbody tr th {\n",
       "        vertical-align: top;\n",
       "    }\n",
       "\n",
       "    .dataframe thead th {\n",
       "        text-align: right;\n",
       "    }\n",
       "</style>\n",
       "<table border=\"1\" class=\"dataframe\">\n",
       "  <thead>\n",
       "    <tr style=\"text-align: right;\">\n",
       "      <th></th>\n",
       "      <th>id</th>\n",
       "      <th>school</th>\n",
       "      <th>link</th>\n",
       "    </tr>\n",
       "  </thead>\n",
       "  <tbody>\n",
       "    <tr>\n",
       "      <th>4666</th>\n",
       "      <td>2869</td>\n",
       "      <td>california state university long beach</td>\n",
       "      <td>33.7701° N, 118.1937° W</td>\n",
       "    </tr>\n",
       "  </tbody>\n",
       "</table>\n",
       "</div>"
      ],
      "text/plain": [
       "        id                                  school                     link\n",
       "4666  2869  california state university long beach  33.7701° N, 118.1937° W"
      ]
     },
     "execution_count": 53,
     "metadata": {},
     "output_type": "execute_result"
    }
   ],
   "source": [
    "# Fixed links start with '33.7' \n",
    "df.loc[df['link'].str.startswith(\"33.7\"),['id','school','link']]"
   ]
  },
  {
   "cell_type": "code",
   "execution_count": 54,
   "metadata": {},
   "outputs": [],
   "source": [
    "# california state university long beach\n",
    "df.loc[df.id == \"2869\",\"link\"] = \"https://web.csulb.edu/divisions/students/aim/faculty_staff.html\"\n",
    "# df.loc[df.id == \"2869\",\"link\"]"
   ]
  },
  {
   "cell_type": "code",
   "execution_count": 55,
   "metadata": {},
   "outputs": [
    {
     "data": {
      "text/html": [
       "<div>\n",
       "<style scoped>\n",
       "    .dataframe tbody tr th:only-of-type {\n",
       "        vertical-align: middle;\n",
       "    }\n",
       "\n",
       "    .dataframe tbody tr th {\n",
       "        vertical-align: top;\n",
       "    }\n",
       "\n",
       "    .dataframe thead th {\n",
       "        text-align: right;\n",
       "    }\n",
       "</style>\n",
       "<table border=\"1\" class=\"dataframe\">\n",
       "  <thead>\n",
       "    <tr style=\"text-align: right;\">\n",
       "      <th></th>\n",
       "      <th>id</th>\n",
       "      <th>school</th>\n",
       "      <th>link</th>\n",
       "    </tr>\n",
       "  </thead>\n",
       "  <tbody>\n",
       "    <tr>\n",
       "      <th>21471</th>\n",
       "      <td>2267</td>\n",
       "      <td>the university of california davis</td>\n",
       "      <td>occr.ucdavis.edu/poc/</td>\n",
       "    </tr>\n",
       "  </tbody>\n",
       "</table>\n",
       "</div>"
      ],
      "text/plain": [
       "         id                              school                   link\n",
       "21471  2267  the university of california davis  occr.ucdavis.edu/poc/"
      ]
     },
     "execution_count": 55,
     "metadata": {},
     "output_type": "execute_result"
    }
   ],
   "source": [
    "# Fixed links start with 'occr' \n",
    "df.loc[df['link'].str.startswith(\"occr\"),['id','school','link']]"
   ]
  },
  {
   "cell_type": "code",
   "execution_count": 56,
   "metadata": {},
   "outputs": [],
   "source": [
    "# the university of california davis\n",
    "df.loc[df.id == \"2267\",\"link\"] = \"https://diversity.ucdavis.edu/principles-community\"\n",
    "# df.loc[df.id == \"2267\",\"link\"]"
   ]
  },
  {
   "cell_type": "code",
   "execution_count": 57,
   "metadata": {},
   "outputs": [
    {
     "data": {
      "text/html": [
       "<div>\n",
       "<style scoped>\n",
       "    .dataframe tbody tr th:only-of-type {\n",
       "        vertical-align: middle;\n",
       "    }\n",
       "\n",
       "    .dataframe tbody tr th {\n",
       "        vertical-align: top;\n",
       "    }\n",
       "\n",
       "    .dataframe thead th {\n",
       "        text-align: right;\n",
       "    }\n",
       "</style>\n",
       "<table border=\"1\" class=\"dataframe\">\n",
       "  <thead>\n",
       "    <tr style=\"text-align: right;\">\n",
       "      <th></th>\n",
       "      <th>id</th>\n",
       "      <th>school</th>\n",
       "      <th>link</th>\n",
       "    </tr>\n",
       "  </thead>\n",
       "  <tbody>\n",
       "    <tr>\n",
       "      <th>20493</th>\n",
       "      <td>3102</td>\n",
       "      <td>st. john's university</td>\n",
       "      <td>40.7221° N, 73.7942° W</td>\n",
       "    </tr>\n",
       "  </tbody>\n",
       "</table>\n",
       "</div>"
      ],
      "text/plain": [
       "         id                 school                    link\n",
       "20493  3102  st. john's university  40.7221° N, 73.7942° W"
      ]
     },
     "execution_count": 57,
     "metadata": {},
     "output_type": "execute_result"
    }
   ],
   "source": [
    "# Fixed links start with '40.7' \n",
    "df.loc[df['link'].str.startswith(\"40.7\"),['id','school','link']]"
   ]
  },
  {
   "cell_type": "code",
   "execution_count": 58,
   "metadata": {},
   "outputs": [],
   "source": [
    "# st. john's university\n",
    "df.loc[df.id == \"3102\",\"link\"] = \"https://www.stjohns.edu/life-st-johns/health-and-wellness/disability-services\"\n",
    "# df.loc[df.id == \"3102\",\"link\"]"
   ]
  },
  {
   "cell_type": "code",
   "execution_count": 59,
   "metadata": {},
   "outputs": [
    {
     "data": {
      "text/html": [
       "<div>\n",
       "<style scoped>\n",
       "    .dataframe tbody tr th:only-of-type {\n",
       "        vertical-align: middle;\n",
       "    }\n",
       "\n",
       "    .dataframe tbody tr th {\n",
       "        vertical-align: top;\n",
       "    }\n",
       "\n",
       "    .dataframe thead th {\n",
       "        text-align: right;\n",
       "    }\n",
       "</style>\n",
       "<table border=\"1\" class=\"dataframe\">\n",
       "  <thead>\n",
       "    <tr style=\"text-align: right;\">\n",
       "      <th></th>\n",
       "      <th>id</th>\n",
       "      <th>school</th>\n",
       "      <th>link</th>\n",
       "    </tr>\n",
       "  </thead>\n",
       "  <tbody>\n",
       "    <tr>\n",
       "      <th>6082</th>\n",
       "      <td>4414</td>\n",
       "      <td>university of alaska fairbanks</td>\n",
       "      <td>Responsible Employee Reporting Obligation:</td>\n",
       "    </tr>\n",
       "  </tbody>\n",
       "</table>\n",
       "</div>"
      ],
      "text/plain": [
       "        id                          school  \\\n",
       "6082  4414  university of alaska fairbanks   \n",
       "\n",
       "                                            link  \n",
       "6082  Responsible Employee Reporting Obligation:  "
      ]
     },
     "execution_count": 59,
     "metadata": {},
     "output_type": "execute_result"
    }
   ],
   "source": [
    "# Fixed links start with 'Resp' \n",
    "df.loc[df['link'].str.startswith(\"Resp\"),['id','school','link']]"
   ]
  },
  {
   "cell_type": "code",
   "execution_count": 60,
   "metadata": {},
   "outputs": [],
   "source": [
    "# university of alaska fairbanks\n",
    "df.loc[df.id == \"4414\",\"link\"] = \"https://uaf.edu/chancellor/communications/memos/february-19-2016.php\"\n",
    "# df.loc[df.id == \"4414\",\"link\"]"
   ]
  },
  {
   "cell_type": "code",
   "execution_count": 61,
   "metadata": {},
   "outputs": [
    {
     "data": {
      "text/html": [
       "<div>\n",
       "<style scoped>\n",
       "    .dataframe tbody tr th:only-of-type {\n",
       "        vertical-align: middle;\n",
       "    }\n",
       "\n",
       "    .dataframe tbody tr th {\n",
       "        vertical-align: top;\n",
       "    }\n",
       "\n",
       "    .dataframe thead th {\n",
       "        text-align: right;\n",
       "    }\n",
       "</style>\n",
       "<table border=\"1\" class=\"dataframe\">\n",
       "  <thead>\n",
       "    <tr style=\"text-align: right;\">\n",
       "      <th></th>\n",
       "      <th>id</th>\n",
       "      <th>school</th>\n",
       "      <th>link</th>\n",
       "    </tr>\n",
       "  </thead>\n",
       "  <tbody>\n",
       "    <tr>\n",
       "      <th>14127</th>\n",
       "      <td>14739</td>\n",
       "      <td>michigan technological university</td>\n",
       "      <td>a.\\thttps://www.mtu.edu/policy/policies/genera...</td>\n",
       "    </tr>\n",
       "  </tbody>\n",
       "</table>\n",
       "</div>"
      ],
      "text/plain": [
       "          id                             school  \\\n",
       "14127  14739  michigan technological university   \n",
       "\n",
       "                                                    link  \n",
       "14127  a.\\thttps://www.mtu.edu/policy/policies/genera...  "
      ]
     },
     "execution_count": 61,
     "metadata": {},
     "output_type": "execute_result"
    }
   ],
   "source": [
    "# Fixed links start with 'a.\\th' \n",
    "df.loc[df['link'].str.startswith(\"a.\\th\"),['id','school','link']]"
   ]
  },
  {
   "cell_type": "code",
   "execution_count": 62,
   "metadata": {},
   "outputs": [],
   "source": [
    "# michigan technological university\n",
    "df.loc[df.id == \"14739\",\"link\"] = \"https://www.mtu.edu/policy/policies/general/1-01/\"\n",
    "# df.loc[df.id == \"14739\",\"link\"]"
   ]
  },
  {
   "cell_type": "code",
   "execution_count": 63,
   "metadata": {},
   "outputs": [
    {
     "data": {
      "text/html": [
       "<div>\n",
       "<style scoped>\n",
       "    .dataframe tbody tr th:only-of-type {\n",
       "        vertical-align: middle;\n",
       "    }\n",
       "\n",
       "    .dataframe tbody tr th {\n",
       "        vertical-align: top;\n",
       "    }\n",
       "\n",
       "    .dataframe thead th {\n",
       "        text-align: right;\n",
       "    }\n",
       "</style>\n",
       "<table border=\"1\" class=\"dataframe\">\n",
       "  <thead>\n",
       "    <tr style=\"text-align: right;\">\n",
       "      <th></th>\n",
       "      <th>id</th>\n",
       "      <th>school</th>\n",
       "      <th>link</th>\n",
       "    </tr>\n",
       "  </thead>\n",
       "  <tbody>\n",
       "    <tr>\n",
       "      <th>2622</th>\n",
       "      <td>812</td>\n",
       "      <td>california institute of technology</td>\n",
       "      <td>hr.caltech.edu/documents/48-citpolicy_sexual_m...</td>\n",
       "    </tr>\n",
       "  </tbody>\n",
       "</table>\n",
       "</div>"
      ],
      "text/plain": [
       "       id                              school  \\\n",
       "2622  812  california institute of technology   \n",
       "\n",
       "                                                   link  \n",
       "2622  hr.caltech.edu/documents/48-citpolicy_sexual_m...  "
      ]
     },
     "execution_count": 63,
     "metadata": {},
     "output_type": "execute_result"
    }
   ],
   "source": [
    "# Fixed links start with 'hr.c' \n",
    "df.loc[df['link'].str.startswith(\"hr.c\"),['id','school','link']]"
   ]
  },
  {
   "cell_type": "code",
   "execution_count": 64,
   "metadata": {},
   "outputs": [],
   "source": [
    "# california institute of technology\n",
    "df.loc[df.id == \"812\",\"link\"] = \"https://hr.caltech.edu/documents/2925/caltech_institute_policy-gender_based_misconduct.pdf\"\n",
    "# df.loc[df.id == \"812\",\"link\"]"
   ]
  },
  {
   "cell_type": "code",
   "execution_count": 65,
   "metadata": {},
   "outputs": [
    {
     "data": {
      "text/html": [
       "<div>\n",
       "<style scoped>\n",
       "    .dataframe tbody tr th:only-of-type {\n",
       "        vertical-align: middle;\n",
       "    }\n",
       "\n",
       "    .dataframe tbody tr th {\n",
       "        vertical-align: top;\n",
       "    }\n",
       "\n",
       "    .dataframe thead th {\n",
       "        text-align: right;\n",
       "    }\n",
       "</style>\n",
       "<table border=\"1\" class=\"dataframe\">\n",
       "  <thead>\n",
       "    <tr style=\"text-align: right;\">\n",
       "      <th></th>\n",
       "      <th>id</th>\n",
       "      <th>school</th>\n",
       "      <th>link</th>\n",
       "    </tr>\n",
       "  </thead>\n",
       "  <tbody>\n",
       "    <tr>\n",
       "      <th>4664</th>\n",
       "      <td>2867</td>\n",
       "      <td>california state university long beach</td>\n",
       "      <td>udents with a print-related disability and app...</td>\n",
       "    </tr>\n",
       "  </tbody>\n",
       "</table>\n",
       "</div>"
      ],
      "text/plain": [
       "        id                                  school  \\\n",
       "4664  2867  california state university long beach   \n",
       "\n",
       "                                                   link  \n",
       "4664  udents with a print-related disability and app...  "
      ]
     },
     "execution_count": 65,
     "metadata": {},
     "output_type": "execute_result"
    }
   ],
   "source": [
    "# Fixed links start with 'uden' \n",
    "df.loc[df['link'].str.startswith(\"uden\"),['id','school','link']]"
   ]
  },
  {
   "cell_type": "code",
   "execution_count": 66,
   "metadata": {},
   "outputs": [],
   "source": [
    "# california state university long beach\n",
    "df.loc[df.id == \"2867\",\"link\"] = \"https://web.csulb.edu/divisions/students/aim/aimr.html\"\n",
    "# df.loc[df.id == \"2867\",\"link\"]"
   ]
  },
  {
   "cell_type": "code",
   "execution_count": 67,
   "metadata": {},
   "outputs": [
    {
     "data": {
      "text/html": [
       "<div>\n",
       "<style scoped>\n",
       "    .dataframe tbody tr th:only-of-type {\n",
       "        vertical-align: middle;\n",
       "    }\n",
       "\n",
       "    .dataframe tbody tr th {\n",
       "        vertical-align: top;\n",
       "    }\n",
       "\n",
       "    .dataframe thead th {\n",
       "        text-align: right;\n",
       "    }\n",
       "</style>\n",
       "<table border=\"1\" class=\"dataframe\">\n",
       "  <thead>\n",
       "    <tr style=\"text-align: right;\">\n",
       "      <th></th>\n",
       "      <th>id</th>\n",
       "      <th>school</th>\n",
       "      <th>link</th>\n",
       "    </tr>\n",
       "  </thead>\n",
       "  <tbody>\n",
       "    <tr>\n",
       "      <th>6316</th>\n",
       "      <td>4654</td>\n",
       "      <td>prescott college</td>\n",
       "      <td>34.5448° N, 112.4766° W</td>\n",
       "    </tr>\n",
       "  </tbody>\n",
       "</table>\n",
       "</div>"
      ],
      "text/plain": [
       "        id            school                     link\n",
       "6316  4654  prescott college  34.5448° N, 112.4766° W"
      ]
     },
     "execution_count": 67,
     "metadata": {},
     "output_type": "execute_result"
    }
   ],
   "source": [
    "# Fixed links start with '34.5' \n",
    "df.loc[df['link'].str.startswith(\"34.5\"),['id','school','link']]"
   ]
  },
  {
   "cell_type": "code",
   "execution_count": 68,
   "metadata": {},
   "outputs": [],
   "source": [
    "# prescott college\n",
    "df.loc[df.id == \"4654\",\"link\"] = \"https://www.prescott.edu/our_story\"\n",
    "# df.loc[df.id == \"4654\",\"link\"]"
   ]
  },
  {
   "cell_type": "code",
   "execution_count": 69,
   "metadata": {},
   "outputs": [
    {
     "data": {
      "text/html": [
       "<div>\n",
       "<style scoped>\n",
       "    .dataframe tbody tr th:only-of-type {\n",
       "        vertical-align: middle;\n",
       "    }\n",
       "\n",
       "    .dataframe tbody tr th {\n",
       "        vertical-align: top;\n",
       "    }\n",
       "\n",
       "    .dataframe thead th {\n",
       "        text-align: right;\n",
       "    }\n",
       "</style>\n",
       "<table border=\"1\" class=\"dataframe\">\n",
       "  <thead>\n",
       "    <tr style=\"text-align: right;\">\n",
       "      <th></th>\n",
       "      <th>id</th>\n",
       "      <th>school</th>\n",
       "      <th>link</th>\n",
       "    </tr>\n",
       "  </thead>\n",
       "  <tbody>\n",
       "    <tr>\n",
       "      <th>98</th>\n",
       "      <td>21197</td>\n",
       "      <td>university of oregon</td>\n",
       "      <td>English Department Assessment Report, 2017-18 ...</td>\n",
       "    </tr>\n",
       "  </tbody>\n",
       "</table>\n",
       "</div>"
      ],
      "text/plain": [
       "       id                school  \\\n",
       "98  21197  university of oregon   \n",
       "\n",
       "                                                 link  \n",
       "98  English Department Assessment Report, 2017-18 ...  "
      ]
     },
     "execution_count": 69,
     "metadata": {},
     "output_type": "execute_result"
    }
   ],
   "source": [
    "# Fixed links start with 'Engl' \n",
    "df.loc[df['link'].str.startswith(\"Engl\"),['id','school','link']]"
   ]
  },
  {
   "cell_type": "code",
   "execution_count": 70,
   "metadata": {},
   "outputs": [],
   "source": [
    "# university of oregon\n",
    "df.loc[df.id == \"21197\",\"link\"] = \"https://provost.uoregon.edu/files/assessment_report_final._lh_002.pdf\"\n",
    "# df.loc[df.id == \"21197\",\"link\"]"
   ]
  },
  {
   "cell_type": "code",
   "execution_count": 71,
   "metadata": {},
   "outputs": [
    {
     "data": {
      "text/html": [
       "<div>\n",
       "<style scoped>\n",
       "    .dataframe tbody tr th:only-of-type {\n",
       "        vertical-align: middle;\n",
       "    }\n",
       "\n",
       "    .dataframe tbody tr th {\n",
       "        vertical-align: top;\n",
       "    }\n",
       "\n",
       "    .dataframe thead th {\n",
       "        text-align: right;\n",
       "    }\n",
       "</style>\n",
       "<table border=\"1\" class=\"dataframe\">\n",
       "  <thead>\n",
       "    <tr style=\"text-align: right;\">\n",
       "      <th></th>\n",
       "      <th>id</th>\n",
       "      <th>school</th>\n",
       "      <th>link</th>\n",
       "    </tr>\n",
       "  </thead>\n",
       "  <tbody>\n",
       "    <tr>\n",
       "      <th>5851</th>\n",
       "      <td>4123</td>\n",
       "      <td>columbia university</td>\n",
       "      <td>Allowing students to explore questions of race...</td>\n",
       "    </tr>\n",
       "  </tbody>\n",
       "</table>\n",
       "</div>"
      ],
      "text/plain": [
       "        id               school  \\\n",
       "5851  4123  columbia university   \n",
       "\n",
       "                                                   link  \n",
       "5851  Allowing students to explore questions of race...  "
      ]
     },
     "execution_count": 71,
     "metadata": {},
     "output_type": "execute_result"
    }
   ],
   "source": [
    "# Fixed links start with 'Allo' \n",
    "df.loc[df['link'].str.startswith(\"Allo\"),['id','school','link']]"
   ]
  },
  {
   "cell_type": "code",
   "execution_count": 72,
   "metadata": {},
   "outputs": [],
   "source": [
    "# columbia university\n",
    "df.loc[df.id == \"4123\",\"link\"] = \"https://undergrad.admissions.columbia.edu/learn/studentlife/diversity\"\n",
    "# df.loc[df.id == \"4123\",\"link\"]"
   ]
  },
  {
   "cell_type": "code",
   "execution_count": 73,
   "metadata": {},
   "outputs": [
    {
     "data": {
      "text/html": [
       "<div>\n",
       "<style scoped>\n",
       "    .dataframe tbody tr th:only-of-type {\n",
       "        vertical-align: middle;\n",
       "    }\n",
       "\n",
       "    .dataframe tbody tr th {\n",
       "        vertical-align: top;\n",
       "    }\n",
       "\n",
       "    .dataframe thead th {\n",
       "        text-align: right;\n",
       "    }\n",
       "</style>\n",
       "<table border=\"1\" class=\"dataframe\">\n",
       "  <thead>\n",
       "    <tr style=\"text-align: right;\">\n",
       "      <th></th>\n",
       "      <th>id</th>\n",
       "      <th>school</th>\n",
       "      <th>link</th>\n",
       "    </tr>\n",
       "  </thead>\n",
       "  <tbody>\n",
       "    <tr>\n",
       "      <th>8740</th>\n",
       "      <td>7430</td>\n",
       "      <td>university of arkansas</td>\n",
       "      <td>Higher Education Affirmative Action Decision M...</td>\n",
       "    </tr>\n",
       "  </tbody>\n",
       "</table>\n",
       "</div>"
      ],
      "text/plain": [
       "        id                  school  \\\n",
       "8740  7430  university of arkansas   \n",
       "\n",
       "                                                   link  \n",
       "8740  Higher Education Affirmative Action Decision M...  "
      ]
     },
     "execution_count": 73,
     "metadata": {},
     "output_type": "execute_result"
    }
   ],
   "source": [
    "# Fixed links start with 'High' \n",
    "df.loc[df['link'].str.startswith(\"High\"),['id','school','link']]"
   ]
  },
  {
   "cell_type": "code",
   "execution_count": 74,
   "metadata": {},
   "outputs": [],
   "source": [
    "# university of arkansas\n",
    "df.loc[df.id == \"7430\",\"link\"] = \"https://news.uark.edu/articles/14525/higher-education-affirmative-action-decision-misunderstood\"\n",
    "# df.loc[df.id == \"7430\",\"link\"]"
   ]
  },
  {
   "cell_type": "code",
   "execution_count": 75,
   "metadata": {},
   "outputs": [
    {
     "data": {
      "text/html": [
       "<div>\n",
       "<style scoped>\n",
       "    .dataframe tbody tr th:only-of-type {\n",
       "        vertical-align: middle;\n",
       "    }\n",
       "\n",
       "    .dataframe tbody tr th {\n",
       "        vertical-align: top;\n",
       "    }\n",
       "\n",
       "    .dataframe thead th {\n",
       "        text-align: right;\n",
       "    }\n",
       "</style>\n",
       "<table border=\"1\" class=\"dataframe\">\n",
       "  <thead>\n",
       "    <tr style=\"text-align: right;\">\n",
       "      <th></th>\n",
       "      <th>id</th>\n",
       "      <th>school</th>\n",
       "      <th>link</th>\n",
       "    </tr>\n",
       "  </thead>\n",
       "  <tbody>\n",
       "    <tr>\n",
       "      <th>21160</th>\n",
       "      <td>6928</td>\n",
       "      <td>university of alaska fairbanks</td>\n",
       "      <td>veterans</td>\n",
       "    </tr>\n",
       "  </tbody>\n",
       "</table>\n",
       "</div>"
      ],
      "text/plain": [
       "         id                          school      link\n",
       "21160  6928  university of alaska fairbanks  veterans"
      ]
     },
     "execution_count": 75,
     "metadata": {},
     "output_type": "execute_result"
    }
   ],
   "source": [
    "# Fixed links start with 'vete' \n",
    "df.loc[df['link'].str.startswith(\"vete\"),['id','school','link']]"
   ]
  },
  {
   "cell_type": "code",
   "execution_count": 76,
   "metadata": {},
   "outputs": [
    {
     "data": {
      "text/plain": [
       "Series([], Name: link, dtype: object)"
      ]
     },
     "execution_count": 76,
     "metadata": {},
     "output_type": "execute_result"
    }
   ],
   "source": [
    "# \tuniversity of alaska fairbanks (No link for this record, drop it)\n",
    "# df = df.drop(21160)\n",
    "# df.loc[df.id == \"6928\",\"link\"]"
   ]
  },
  {
   "cell_type": "code",
   "execution_count": 78,
   "metadata": {},
   "outputs": [
    {
     "data": {
      "text/html": [
       "<div>\n",
       "<style scoped>\n",
       "    .dataframe tbody tr th:only-of-type {\n",
       "        vertical-align: middle;\n",
       "    }\n",
       "\n",
       "    .dataframe tbody tr th {\n",
       "        vertical-align: top;\n",
       "    }\n",
       "\n",
       "    .dataframe thead th {\n",
       "        text-align: right;\n",
       "    }\n",
       "</style>\n",
       "<table border=\"1\" class=\"dataframe\">\n",
       "  <thead>\n",
       "    <tr style=\"text-align: right;\">\n",
       "      <th></th>\n",
       "      <th>id</th>\n",
       "      <th>school</th>\n",
       "      <th>link</th>\n",
       "    </tr>\n",
       "  </thead>\n",
       "  <tbody>\n",
       "    <tr>\n",
       "      <th>21586</th>\n",
       "      <td>17490</td>\n",
       "      <td>the university of california merced</td>\n",
       "      <td>120.4255° W</td>\n",
       "    </tr>\n",
       "  </tbody>\n",
       "</table>\n",
       "</div>"
      ],
      "text/plain": [
       "          id                               school         link\n",
       "21586  17490  the university of california merced  120.4255° W"
      ]
     },
     "execution_count": 78,
     "metadata": {},
     "output_type": "execute_result"
    }
   ],
   "source": [
    "# Fixed links start with '120.' \n",
    "df.loc[df['link'].str.startswith(\"120.\"),['id','school','link']]"
   ]
  },
  {
   "cell_type": "code",
   "execution_count": 79,
   "metadata": {},
   "outputs": [
    {
     "data": {
      "text/plain": [
       "21586    https://www.ucop.edu/information-technology-se...\n",
       "Name: link, dtype: object"
      ]
     },
     "execution_count": 79,
     "metadata": {},
     "output_type": "execute_result"
    }
   ],
   "source": [
    "# the university of california merced\n",
    "df.loc[df.id == \"17490\",\"link\"] = \"https://www.ucop.edu/information-technology-services/initiatives/\"\n",
    "# df.loc[df.id == \"17490\",\"link\"]"
   ]
  },
  {
   "cell_type": "code",
   "execution_count": 80,
   "metadata": {},
   "outputs": [
    {
     "data": {
      "text/html": [
       "<div>\n",
       "<style scoped>\n",
       "    .dataframe tbody tr th:only-of-type {\n",
       "        vertical-align: middle;\n",
       "    }\n",
       "\n",
       "    .dataframe tbody tr th {\n",
       "        vertical-align: top;\n",
       "    }\n",
       "\n",
       "    .dataframe thead th {\n",
       "        text-align: right;\n",
       "    }\n",
       "</style>\n",
       "<table border=\"1\" class=\"dataframe\">\n",
       "  <thead>\n",
       "    <tr style=\"text-align: right;\">\n",
       "      <th></th>\n",
       "      <th>id</th>\n",
       "      <th>school</th>\n",
       "      <th>link</th>\n",
       "    </tr>\n",
       "  </thead>\n",
       "  <tbody>\n",
       "    <tr>\n",
       "      <th>12750</th>\n",
       "      <td>12649</td>\n",
       "      <td>mercer college</td>\n",
       "      <td>-83.63509</td>\n",
       "    </tr>\n",
       "  </tbody>\n",
       "</table>\n",
       "</div>"
      ],
      "text/plain": [
       "          id          school       link\n",
       "12750  12649  mercer college  -83.63509"
      ]
     },
     "execution_count": 80,
     "metadata": {},
     "output_type": "execute_result"
    }
   ],
   "source": [
    "# Fixed links start with '-83.' \n",
    "df.loc[df['link'].str.startswith(\"-83.\"),['id','school','link']]"
   ]
  },
  {
   "cell_type": "code",
   "execution_count": 81,
   "metadata": {},
   "outputs": [],
   "source": [
    "# the university of california merced\n",
    "df.loc[df.id == \"12649\",\"link\"] = \"https://orc.mercer.edu/www/mu-orc/assurance/upload/D16-00428-A3725-01-Animal-Welfare-Assurance-v2018.pdf\"\n",
    "# df.loc[df.id == \"12649\",\"link\"]"
   ]
  },
  {
   "cell_type": "code",
   "execution_count": 82,
   "metadata": {},
   "outputs": [
    {
     "data": {
      "text/html": [
       "<div>\n",
       "<style scoped>\n",
       "    .dataframe tbody tr th:only-of-type {\n",
       "        vertical-align: middle;\n",
       "    }\n",
       "\n",
       "    .dataframe tbody tr th {\n",
       "        vertical-align: top;\n",
       "    }\n",
       "\n",
       "    .dataframe thead th {\n",
       "        text-align: right;\n",
       "    }\n",
       "</style>\n",
       "<table border=\"1\" class=\"dataframe\">\n",
       "  <thead>\n",
       "    <tr style=\"text-align: right;\">\n",
       "      <th></th>\n",
       "      <th>id</th>\n",
       "      <th>school</th>\n",
       "      <th>link</th>\n",
       "    </tr>\n",
       "  </thead>\n",
       "  <tbody>\n",
       "    <tr>\n",
       "      <th>12458</th>\n",
       "      <td>12310</td>\n",
       "      <td>university of oklahoma</td>\n",
       "      <td>Employees must provide 30 days advance notice ...</td>\n",
       "    </tr>\n",
       "  </tbody>\n",
       "</table>\n",
       "</div>"
      ],
      "text/plain": [
       "          id                  school  \\\n",
       "12458  12310  university of oklahoma   \n",
       "\n",
       "                                                    link  \n",
       "12458  Employees must provide 30 days advance notice ...  "
      ]
     },
     "execution_count": 82,
     "metadata": {},
     "output_type": "execute_result"
    }
   ],
   "source": [
    "# Fixed links start with 'Empl' \n",
    "df.loc[df['link'].str.startswith(\"Empl\"),['id','school','link']]"
   ]
  },
  {
   "cell_type": "code",
   "execution_count": 83,
   "metadata": {},
   "outputs": [
    {
     "data": {
      "text/plain": [
       "12458    https://apps.hr.ou.edu/staffhandbook\n",
       "Name: link, dtype: object"
      ]
     },
     "execution_count": 83,
     "metadata": {},
     "output_type": "execute_result"
    }
   ],
   "source": [
    "# university of oklahoma\n",
    "df.loc[df.id == \"12310\",\"link\"] = \"https://apps.hr.ou.edu/staffhandbook\"\n",
    "# df.loc[df.id == \"12310\",\"link\"]"
   ]
  },
  {
   "cell_type": "code",
   "execution_count": 86,
   "metadata": {},
   "outputs": [
    {
     "data": {
      "text/html": [
       "<div>\n",
       "<style scoped>\n",
       "    .dataframe tbody tr th:only-of-type {\n",
       "        vertical-align: middle;\n",
       "    }\n",
       "\n",
       "    .dataframe tbody tr th {\n",
       "        vertical-align: top;\n",
       "    }\n",
       "\n",
       "    .dataframe thead th {\n",
       "        text-align: right;\n",
       "    }\n",
       "</style>\n",
       "<table border=\"1\" class=\"dataframe\">\n",
       "  <thead>\n",
       "    <tr style=\"text-align: right;\">\n",
       "      <th></th>\n",
       "      <th>id</th>\n",
       "      <th>school</th>\n",
       "      <th>link</th>\n",
       "    </tr>\n",
       "  </thead>\n",
       "  <tbody>\n",
       "    <tr>\n",
       "      <th>2046</th>\n",
       "      <td>153</td>\n",
       "      <td>cornell university</td>\n",
       "      <td>Cornell University expects all executive offic...</td>\n",
       "    </tr>\n",
       "  </tbody>\n",
       "</table>\n",
       "</div>"
      ],
      "text/plain": [
       "       id              school  \\\n",
       "2046  153  cornell university   \n",
       "\n",
       "                                                   link  \n",
       "2046  Cornell University expects all executive offic...  "
      ]
     },
     "execution_count": 86,
     "metadata": {},
     "output_type": "execute_result"
    }
   ],
   "source": [
    "# Fixed links start with 'Corn' \n",
    "df.loc[df['link'].str.startswith(\"Corn\"),['id','school','link']]"
   ]
  },
  {
   "cell_type": "code",
   "execution_count": null,
   "metadata": {},
   "outputs": [],
   "source": []
  }
 ],
 "metadata": {
  "kernelspec": {
   "display_name": "Python 3",
   "language": "python",
   "name": "python3"
  },
  "language_info": {
   "codemirror_mode": {
    "name": "ipython",
    "version": 3
   },
   "file_extension": ".py",
   "mimetype": "text/x-python",
   "name": "python",
   "nbconvert_exporter": "python",
   "pygments_lexer": "ipython3",
   "version": "3.7.3"
  }
 },
 "nbformat": 4,
 "nbformat_minor": 2
}
